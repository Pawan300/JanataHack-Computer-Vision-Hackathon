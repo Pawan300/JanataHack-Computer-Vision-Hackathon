{
  "nbformat": 4,
  "nbformat_minor": 0,
  "metadata": {
    "kernelspec": {
      "display_name": "Python 3",
      "language": "python",
      "name": "python3"
    },
    "colab": {
      "name": "AV_ComputerVision.ipynb",
      "provenance": [],
      "collapsed_sections": []
    },
    "accelerator": "GPU"
  },
  "cells": [
    {
      "cell_type": "code",
      "metadata": {
        "id": "QpGceqaETrLK",
        "colab_type": "code",
        "colab": {}
      },
      "source": [
        "from google.colab import drive\n",
        "drive.mount('/content/drive')"
      ],
      "execution_count": null,
      "outputs": []
    },
    {
      "cell_type": "code",
      "metadata": {
        "id": "dTZ4z2Tx92Sv",
        "colab_type": "code",
        "colab": {}
      },
      "source": [
        "!pip install fastai"
      ],
      "execution_count": null,
      "outputs": []
    },
    {
      "cell_type": "code",
      "metadata": {
        "id": "BgOsApcC96Q8",
        "colab_type": "code",
        "colab": {}
      },
      "source": [
        "import zipfile\n",
        "with zipfile.ZipFile(\"/content/drive/My Drive/Colab Notebooks/JanathaHack/train_SOaYf6m.zip\",\"r\") as zip_ref:\n",
        "    zip_ref.extractall(\"input\")"
      ],
      "execution_count": null,
      "outputs": []
    },
    {
      "cell_type": "code",
      "metadata": {
        "id": "16yuaIjV7gye",
        "colab_type": "code",
        "colab": {}
      },
      "source": [
        "import numpy as np\n",
        "import pandas as pd \n",
        "import seaborn as sns\n",
        "import matplotlib.pyplot as plt\n",
        "import os\n",
        "import cv2\n",
        "import glob\n",
        "print(os.listdir(\"input/\"))\n",
        "\n",
        "# Any results you write to the current directory are saved as output."
      ],
      "execution_count": null,
      "outputs": []
    },
    {
      "cell_type": "code",
      "metadata": {
        "id": "4R6638mI7gzF",
        "colab_type": "code",
        "colab": {}
      },
      "source": [
        "from pathlib import Path\n",
        "from fastai import *\n",
        "from fastai.vision import *\n",
        "import torch\n",
        "from fastai.callbacks.hooks import *"
      ],
      "execution_count": null,
      "outputs": []
    },
    {
      "cell_type": "code",
      "metadata": {
        "id": "PpntUSxs7gzd",
        "colab_type": "code",
        "colab": {}
      },
      "source": [
        "data_folder = Path(\"input/\")"
      ],
      "execution_count": null,
      "outputs": []
    },
    {
      "cell_type": "code",
      "metadata": {
        "id": "PWfZttE27gzy",
        "colab_type": "code",
        "colab": {}
      },
      "source": [
        "data_path = \"input/images/\"\n",
        "path = os.path.join(data_path , \"*jpg\")"
      ],
      "execution_count": null,
      "outputs": []
    },
    {
      "cell_type": "code",
      "metadata": {
        "id": "gtY8WETI7g0E",
        "colab_type": "code",
        "colab": {}
      },
      "source": [
        ""
      ],
      "execution_count": null,
      "outputs": []
    },
    {
      "cell_type": "code",
      "metadata": {
        "id": "OMQo0VMnTAxU",
        "colab_type": "code",
        "colab": {}
      },
      "source": [
        ""
      ],
      "execution_count": null,
      "outputs": []
    },
    {
      "cell_type": "code",
      "metadata": {
        "id": "Ll5grWZC7g0X",
        "colab_type": "code",
        "colab": {}
      },
      "source": [
        "train_df = pd.read_csv('input/train.csv')\n",
        "test_df = pd.read_csv('input/test_vc2kHdQ.csv')\n",
        "submit = pd.read_csv('input/sample_submission_yxjOnvz.csv')"
      ],
      "execution_count": null,
      "outputs": []
    },
    {
      "cell_type": "code",
      "metadata": {
        "id": "B5A59e67TJ-p",
        "colab_type": "code",
        "colab": {}
      },
      "source": [
        "train_imagesdf=[]\n",
        "for file1 in train_df[\"image_names\"].values:\n",
        "      image = cv2.imread(\"input/images/\"+file1)\n",
        "      train_imagesdf.append(image)\n",
        "test_imagesdf=[]\n",
        "for file1 in test_df[\"image_names\"].values:\n",
        "      image = cv2.imread(\"input/images/\"+file1)\n",
        "      test_imagesdf.append(image)"
      ],
      "execution_count": null,
      "outputs": []
    },
    {
      "cell_type": "code",
      "metadata": {
        "id": "eXFUloBQ7g0m",
        "colab_type": "code",
        "colab": {
          "base_uri": "https://localhost:8080/",
          "height": 34
        },
        "outputId": "c94cf417-5505-4ce2-cf6c-c2affcdcff59"
      },
      "source": [
        "train_df.shape, test_df.shape"
      ],
      "execution_count": null,
      "outputs": [
        {
          "output_type": "execute_result",
          "data": {
            "text/plain": [
              "((1646, 2), (706, 1))"
            ]
          },
          "metadata": {
            "tags": []
          },
          "execution_count": 10
        }
      ]
    },
    {
      "cell_type": "code",
      "metadata": {
        "id": "B0v0qTWRRSwY",
        "colab_type": "code",
        "colab": {}
      },
      "source": [
        ""
      ],
      "execution_count": null,
      "outputs": []
    },
    {
      "cell_type": "code",
      "metadata": {
        "id": "6hCLzjVD7g2N",
        "colab_type": "code",
        "colab": {
          "base_uri": "https://localhost:8080/",
          "height": 298
        },
        "outputId": "d167de10-6160-4226-90db-6c9655b0b2f0"
      },
      "source": [
        "sns.countplot(x='emergency_or_not' , data=train_df)"
      ],
      "execution_count": null,
      "outputs": [
        {
          "output_type": "execute_result",
          "data": {
            "text/plain": [
              "<matplotlib.axes._subplots.AxesSubplot at 0x7fd1314f8ac8>"
            ]
          },
          "metadata": {
            "tags": []
          },
          "execution_count": 203
        },
        {
          "output_type": "display_data",
          "data": {
            "image/png": "[encoded data removed]",
            "text/plain": [
              "<Figure size 432x288 with 1 Axes>"
            ]
          },
          "metadata": {
            "tags": [],
            "needs_background": "light"
          }
        }
      ]
    },
    {
      "cell_type": "code",
      "metadata": {
        "id": "N1Hw5f6i7g22",
        "colab_type": "code",
        "colab": {}
      },
      "source": [
        "train_images = train_imagesdf\n",
        "test_images= test_imagesdf"
      ],
      "execution_count": null,
      "outputs": []
    },
    {
      "cell_type": "code",
      "metadata": {
        "id": "D81cIKh57g4E",
        "colab_type": "code",
        "colab": {}
      },
      "source": [
        "tfms = get_transforms(do_flip=True,flip_vert=False ,max_rotate=10.0, max_zoom=1.22, max_lighting=0.22, max_warp=0.0, p_affine=0.75,\n",
        "                      p_lighting=0.75)\n",
        "\n",
        "test_img = ImageList.from_df(test_df, path=data_folder, folder='images')"
      ],
      "execution_count": null,
      "outputs": []
    },
    {
      "cell_type": "code",
      "metadata": {
        "id": "lcQwJL-hhMWo",
        "colab_type": "code",
        "colab": {
          "base_uri": "https://localhost:8080/",
          "height": 241
        },
        "outputId": "7ba33cdc-1f1d-4346-878e-ba35afe490fa"
      },
      "source": [
        "test_img[0]"
      ],
      "execution_count": null,
      "outputs": [
        {
          "output_type": "execute_result",
          "data": {
            "image/png": "[encoded data removed]",
            "image/jpeg": "[encoded data removed]",
            "text/plain": [
              "Image (3, 224, 224)"
            ]
          },
          "metadata": {
            "tags": []
          },
          "execution_count": 30
        }
      ]
    },
    {
      "cell_type": "code",
      "metadata": {
        "id": "tHfoLqfX7g4S",
        "colab_type": "code",
        "colab": {}
      },
      "source": [
        "np.random.seed(145)\n",
        "## create source of train image databunch\n",
        "src = (ImageList.from_df(train_df, path=data_folder, folder='images')\n",
        "       .split_by_rand_pct(0.2)\n",
        "      #  .split_none()\n",
        "       .label_from_df()\n",
        "       .add_test(test_img))"
      ],
      "execution_count": null,
      "outputs": []
    },
    {
      "cell_type": "code",
      "metadata": {
        "id": "AV8c63-H7g4k",
        "colab_type": "code",
        "colab": {}
      },
      "source": [
        "data = (src.transform(tfms, size=299,padding_mode='reflection',resize_method=ResizeMethod.SQUISH)\n",
        "        .databunch(path='.', bs=64,device= torch.device('cuda:0')).normalize(imagenet_stats))"
      ],
      "execution_count": null,
      "outputs": []
    },
    {
      "cell_type": "code",
      "metadata": {
        "id": "PngMhBQu7g40",
        "colab_type": "code",
        "colab": {
          "base_uri": "https://localhost:8080/",
          "height": 34
        },
        "outputId": "dfec6dcd-4f40-4328-c4f9-8b13289ea595"
      },
      "source": [
        "print(data.classes)"
      ],
      "execution_count": null,
      "outputs": [
        {
          "output_type": "stream",
          "text": [
            "[0, 1]\n"
          ],
          "name": "stdout"
        }
      ]
    },
    {
      "cell_type": "code",
      "metadata": {
        "id": "naFZfxFj7g5A",
        "colab_type": "code",
        "colab": {}
      },
      "source": [
        "learn = cnn_learner(data=data, base_arch=models.resnet101, metrics=[FBeta(beta=1, average='macro'), accuracy],\n",
        "                    callback_fns=ShowGraph)"
      ],
      "execution_count": null,
      "outputs": []
    },
    {
      "cell_type": "code",
      "metadata": {
        "id": "WjT7KSag7g5I",
        "colab_type": "code",
        "colab": {
          "base_uri": "https://localhost:8080/",
          "height": 1000
        },
        "outputId": "182457a5-a373-4be0-8857-455bf2a146c6"
      },
      "source": [
        "learn.summary()"
      ],
      "execution_count": null,
      "outputs": [
        {
          "output_type": "execute_result",
          "data": {
            "text/plain": [
              "Sequential\n",
              "======================================================================\n",
              "Layer (type)         Output Shape         Param #    Trainable \n",
              "======================================================================\n",
              "Conv2d               [64, 150, 150]       9,408      False     \n",
              "______________________________________________________________________\n",
              "BatchNorm2d          [64, 150, 150]       128        True      \n",
              "______________________________________________________________________\n",
              "ReLU                 [64, 150, 150]       0          False     \n",
              "______________________________________________________________________\n",
              "MaxPool2d            [64, 75, 75]         0          False     \n",
              "______________________________________________________________________\n",
              "Conv2d               [64, 75, 75]         4,096      False     \n",
              "______________________________________________________________________\n",
              "BatchNorm2d          [64, 75, 75]         128        True      \n",
              "______________________________________________________________________\n",
              "Conv2d               [64, 75, 75]         36,864     False     \n",
              "______________________________________________________________________\n",
              "BatchNorm2d          [64, 75, 75]         128        True      \n",
              "______________________________________________________________________\n",
              "Conv2d               [256, 75, 75]        16,384     False     \n",
              "______________________________________________________________________\n",
              "BatchNorm2d          [256, 75, 75]        512        True      \n",
              "______________________________________________________________________\n",
              "ReLU                 [256, 75, 75]        0          False     \n",
              "______________________________________________________________________\n",
              "Conv2d               [256, 75, 75]        16,384     False     \n",
              "______________________________________________________________________\n",
              "BatchNorm2d          [256, 75, 75]        512        True      \n",
              "______________________________________________________________________\n",
              "Conv2d               [64, 75, 75]         16,384     False     \n",
              "______________________________________________________________________\n",
              "BatchNorm2d          [64, 75, 75]         128        True      \n",
              "______________________________________________________________________\n",
              "Conv2d               [64, 75, 75]         36,864     False     \n",
              "______________________________________________________________________\n",
              "BatchNorm2d          [64, 75, 75]         128        True      \n",
              "______________________________________________________________________\n",
              "Conv2d               [256, 75, 75]        16,384     False     \n",
              "______________________________________________________________________\n",
              "BatchNorm2d          [256, 75, 75]        512        True      \n",
              "______________________________________________________________________\n",
              "ReLU                 [256, 75, 75]        0          False     \n",
              "______________________________________________________________________\n",
              "Conv2d               [64, 75, 75]         16,384     False     \n",
              "______________________________________________________________________\n",
              "BatchNorm2d          [64, 75, 75]         128        True      \n",
              "______________________________________________________________________\n",
              "Conv2d               [64, 75, 75]         36,864     False     \n",
              "______________________________________________________________________\n",
              "BatchNorm2d          [64, 75, 75]         128        True      \n",
              "______________________________________________________________________\n",
              "Conv2d               [256, 75, 75]        16,384     False     \n",
              "______________________________________________________________________\n",
              "BatchNorm2d          [256, 75, 75]        512        True      \n",
              "______________________________________________________________________\n",
              "ReLU                 [256, 75, 75]        0          False     \n",
              "______________________________________________________________________\n",
              "Conv2d               [128, 75, 75]        32,768     False     \n",
              "______________________________________________________________________\n",
              "BatchNorm2d          [128, 75, 75]        256        True      \n",
              "______________________________________________________________________\n",
              "Conv2d               [128, 38, 38]        147,456    False     \n",
              "______________________________________________________________________\n",
              "BatchNorm2d          [128, 38, 38]        256        True      \n",
              "______________________________________________________________________\n",
              "Conv2d               [512, 38, 38]        65,536     False     \n",
              "______________________________________________________________________\n",
              "BatchNorm2d          [512, 38, 38]        1,024      True      \n",
              "______________________________________________________________________\n",
              "ReLU                 [512, 38, 38]        0          False     \n",
              "______________________________________________________________________\n",
              "Conv2d               [512, 38, 38]        131,072    False     \n",
              "______________________________________________________________________\n",
              "BatchNorm2d          [512, 38, 38]        1,024      True      \n",
              "______________________________________________________________________\n",
              "Conv2d               [128, 38, 38]        65,536     False     \n",
              "______________________________________________________________________\n",
              "BatchNorm2d          [128, 38, 38]        256        True      \n",
              "______________________________________________________________________\n",
              "Conv2d               [128, 38, 38]        147,456    False     \n",
              "______________________________________________________________________\n",
              "BatchNorm2d          [128, 38, 38]        256        True      \n",
              "______________________________________________________________________\n",
              "Conv2d               [512, 38, 38]        65,536     False     \n",
              "______________________________________________________________________\n",
              "BatchNorm2d          [512, 38, 38]        1,024      True      \n",
              "______________________________________________________________________\n",
              "ReLU                 [512, 38, 38]        0          False     \n",
              "______________________________________________________________________\n",
              "Conv2d               [128, 38, 38]        65,536     False     \n",
              "______________________________________________________________________\n",
              "BatchNorm2d          [128, 38, 38]        256        True      \n",
              "______________________________________________________________________\n",
              "Conv2d               [128, 38, 38]        147,456    False     \n",
              "______________________________________________________________________\n",
              "BatchNorm2d          [128, 38, 38]        256        True      \n",
              "______________________________________________________________________\n",
              "Conv2d               [512, 38, 38]        65,536     False     \n",
              "______________________________________________________________________\n",
              "BatchNorm2d          [512, 38, 38]        1,024      True      \n",
              "______________________________________________________________________\n",
              "ReLU                 [512, 38, 38]        0          False     \n",
              "______________________________________________________________________\n",
              "Conv2d               [128, 38, 38]        65,536     False     \n",
              "______________________________________________________________________\n",
              "BatchNorm2d          [128, 38, 38]        256        True      \n",
              "______________________________________________________________________\n",
              "Conv2d               [128, 38, 38]        147,456    False     \n",
              "______________________________________________________________________\n",
              "BatchNorm2d          [128, 38, 38]        256        True      \n",
              "______________________________________________________________________\n",
              "Conv2d               [512, 38, 38]        65,536     False     \n",
              "______________________________________________________________________\n",
              "BatchNorm2d          [512, 38, 38]        1,024      True      \n",
              "______________________________________________________________________\n",
              "ReLU                 [512, 38, 38]        0          False     \n",
              "______________________________________________________________________\n",
              "Conv2d               [256, 38, 38]        131,072    False     \n",
              "______________________________________________________________________\n",
              "BatchNorm2d          [256, 38, 38]        512        True      \n",
              "______________________________________________________________________\n",
              "Conv2d               [256, 19, 19]        589,824    False     \n",
              "______________________________________________________________________\n",
              "BatchNorm2d          [256, 19, 19]        512        True      \n",
              "______________________________________________________________________\n",
              "Conv2d               [1024, 19, 19]       262,144    False     \n",
              "______________________________________________________________________\n",
              "BatchNorm2d          [1024, 19, 19]       2,048      True      \n",
              "______________________________________________________________________\n",
              "ReLU                 [1024, 19, 19]       0          False     \n",
              "______________________________________________________________________\n",
              "Conv2d               [1024, 19, 19]       524,288    False     \n",
              "______________________________________________________________________\n",
              "BatchNorm2d          [1024, 19, 19]       2,048      True      \n",
              "______________________________________________________________________\n",
              "Conv2d               [256, 19, 19]        262,144    False     \n",
              "______________________________________________________________________\n",
              "BatchNorm2d          [256, 19, 19]        512        True      \n",
              "______________________________________________________________________\n",
              "Conv2d               [256, 19, 19]        589,824    False     \n",
              "______________________________________________________________________\n",
              "BatchNorm2d          [256, 19, 19]        512        True      \n",
              "______________________________________________________________________\n",
              "Conv2d               [1024, 19, 19]       262,144    False     \n",
              "______________________________________________________________________\n",
              "BatchNorm2d          [1024, 19, 19]       2,048      True      \n",
              "______________________________________________________________________\n",
              "ReLU                 [1024, 19, 19]       0          False     \n",
              "______________________________________________________________________\n",
              "Conv2d               [256, 19, 19]        262,144    False     \n",
              "______________________________________________________________________\n",
              "BatchNorm2d          [256, 19, 19]        512        True      \n",
              "______________________________________________________________________\n",
              "Conv2d               [256, 19, 19]        589,824    False     \n",
              "______________________________________________________________________\n",
              "BatchNorm2d          [256, 19, 19]        512        True      \n",
              "______________________________________________________________________\n",
              "Conv2d               [1024, 19, 19]       262,144    False     \n",
              "______________________________________________________________________\n",
              "BatchNorm2d          [1024, 19, 19]       2,048      True      \n",
              "______________________________________________________________________\n",
              "ReLU                 [1024, 19, 19]       0          False     \n",
              "______________________________________________________________________\n",
              "Conv2d               [256, 19, 19]        262,144    False     \n",
              "______________________________________________________________________\n",
              "BatchNorm2d          [256, 19, 19]        512        True      \n",
              "______________________________________________________________________\n",
              "Conv2d               [256, 19, 19]        589,824    False     \n",
              "______________________________________________________________________\n",
              "BatchNorm2d          [256, 19, 19]        512        True      \n",
              "______________________________________________________________________\n",
              "Conv2d               [1024, 19, 19]       262,144    False     \n",
              "______________________________________________________________________\n",
              "BatchNorm2d          [1024, 19, 19]       2,048      True      \n",
              "______________________________________________________________________\n",
              "ReLU                 [1024, 19, 19]       0          False     \n",
              "______________________________________________________________________\n",
              "Conv2d               [256, 19, 19]        262,144    False     \n",
              "______________________________________________________________________\n",
              "BatchNorm2d          [256, 19, 19]        512        True      \n",
              "______________________________________________________________________\n",
              "Conv2d               [256, 19, 19]        589,824    False     \n",
              "______________________________________________________________________\n",
              "BatchNorm2d          [256, 19, 19]        512        True      \n",
              "______________________________________________________________________\n",
              "Conv2d               [1024, 19, 19]       262,144    False     \n",
              "______________________________________________________________________\n",
              "BatchNorm2d          [1024, 19, 19]       2,048      True      \n",
              "______________________________________________________________________\n",
              "ReLU                 [1024, 19, 19]       0          False     \n",
              "______________________________________________________________________\n",
              "Conv2d               [256, 19, 19]        262,144    False     \n",
              "______________________________________________________________________\n",
              "BatchNorm2d          [256, 19, 19]        512        True      \n",
              "______________________________________________________________________\n",
              "Conv2d               [256, 19, 19]        589,824    False     \n",
              "______________________________________________________________________\n",
              "BatchNorm2d          [256, 19, 19]        512        True      \n",
              "______________________________________________________________________\n",
              "Conv2d               [1024, 19, 19]       262,144    False     \n",
              "______________________________________________________________________\n",
              "BatchNorm2d          [1024, 19, 19]       2,048      True      \n",
              "______________________________________________________________________\n",
              "ReLU                 [1024, 19, 19]       0          False     \n",
              "______________________________________________________________________\n",
              "Conv2d               [256, 19, 19]        262,144    False     \n",
              "______________________________________________________________________\n",
              "BatchNorm2d          [256, 19, 19]        512        True      \n",
              "______________________________________________________________________\n",
              "Conv2d               [256, 19, 19]        589,824    False     \n",
              "______________________________________________________________________\n",
              "BatchNorm2d          [256, 19, 19]        512        True      \n",
              "______________________________________________________________________\n",
              "Conv2d               [1024, 19, 19]       262,144    False     \n",
              "______________________________________________________________________\n",
              "BatchNorm2d          [1024, 19, 19]       2,048      True      \n",
              "______________________________________________________________________\n",
              "ReLU                 [1024, 19, 19]       0          False     \n",
              "______________________________________________________________________\n",
              "Conv2d               [256, 19, 19]        262,144    False     \n",
              "______________________________________________________________________\n",
              "BatchNorm2d          [256, 19, 19]        512        True      \n",
              "______________________________________________________________________\n",
              "Conv2d               [256, 19, 19]        589,824    False     \n",
              "______________________________________________________________________\n",
              "BatchNorm2d          [256, 19, 19]        512        True      \n",
              "______________________________________________________________________\n",
              "Conv2d               [1024, 19, 19]       262,144    False     \n",
              "______________________________________________________________________\n",
              "BatchNorm2d          [1024, 19, 19]       2,048      True      \n",
              "______________________________________________________________________\n",
              "ReLU                 [1024, 19, 19]       0          False     \n",
              "______________________________________________________________________\n",
              "Conv2d               [256, 19, 19]        262,144    False     \n",
              "______________________________________________________________________\n",
              "BatchNorm2d          [256, 19, 19]        512        True      \n",
              "______________________________________________________________________\n",
              "Conv2d               [256, 19, 19]        589,824    False     \n",
              "______________________________________________________________________\n",
              "BatchNorm2d          [256, 19, 19]        512        True      \n",
              "______________________________________________________________________\n",
              "Conv2d               [1024, 19, 19]       262,144    False     \n",
              "______________________________________________________________________\n",
              "BatchNorm2d          [1024, 19, 19]       2,048      True      \n",
              "______________________________________________________________________\n",
              "ReLU                 [1024, 19, 19]       0          False     \n",
              "______________________________________________________________________\n",
              "Conv2d               [256, 19, 19]        262,144    False     \n",
              "______________________________________________________________________\n",
              "BatchNorm2d          [256, 19, 19]        512        True      \n",
              "______________________________________________________________________\n",
              "Conv2d               [256, 19, 19]        589,824    False     \n",
              "______________________________________________________________________\n",
              "BatchNorm2d          [256, 19, 19]        512        True      \n",
              "______________________________________________________________________\n",
              "Conv2d               [1024, 19, 19]       262,144    False     \n",
              "______________________________________________________________________\n",
              "BatchNorm2d          [1024, 19, 19]       2,048      True      \n",
              "______________________________________________________________________\n",
              "ReLU                 [1024, 19, 19]       0          False     \n",
              "______________________________________________________________________\n",
              "Conv2d               [256, 19, 19]        262,144    False     \n",
              "______________________________________________________________________\n",
              "BatchNorm2d          [256, 19, 19]        512        True      \n",
              "______________________________________________________________________\n",
              "Conv2d               [256, 19, 19]        589,824    False     \n",
              "______________________________________________________________________\n",
              "BatchNorm2d          [256, 19, 19]        512        True      \n",
              "______________________________________________________________________\n",
              "Conv2d               [1024, 19, 19]       262,144    False     \n",
              "______________________________________________________________________\n",
              "BatchNorm2d          [1024, 19, 19]       2,048      True      \n",
              "______________________________________________________________________\n",
              "ReLU                 [1024, 19, 19]       0          False     \n",
              "______________________________________________________________________\n",
              "Conv2d               [256, 19, 19]        262,144    False     \n",
              "______________________________________________________________________\n",
              "BatchNorm2d          [256, 19, 19]        512        True      \n",
              "______________________________________________________________________\n",
              "Conv2d               [256, 19, 19]        589,824    False     \n",
              "______________________________________________________________________\n",
              "BatchNorm2d          [256, 19, 19]        512        True      \n",
              "______________________________________________________________________\n",
              "Conv2d               [1024, 19, 19]       262,144    False     \n",
              "______________________________________________________________________\n",
              "BatchNorm2d          [1024, 19, 19]       2,048      True      \n",
              "______________________________________________________________________\n",
              "ReLU                 [1024, 19, 19]       0          False     \n",
              "______________________________________________________________________\n",
              "Conv2d               [256, 19, 19]        262,144    False     \n",
              "______________________________________________________________________\n",
              "BatchNorm2d          [256, 19, 19]        512        True      \n",
              "______________________________________________________________________\n",
              "Conv2d               [256, 19, 19]        589,824    False     \n",
              "______________________________________________________________________\n",
              "BatchNorm2d          [256, 19, 19]        512        True      \n",
              "______________________________________________________________________\n",
              "Conv2d               [1024, 19, 19]       262,144    False     \n",
              "______________________________________________________________________\n",
              "BatchNorm2d          [1024, 19, 19]       2,048      True      \n",
              "______________________________________________________________________\n",
              "ReLU                 [1024, 19, 19]       0          False     \n",
              "______________________________________________________________________\n",
              "Conv2d               [256, 19, 19]        262,144    False     \n",
              "______________________________________________________________________\n",
              "BatchNorm2d          [256, 19, 19]        512        True      \n",
              "______________________________________________________________________\n",
              "Conv2d               [256, 19, 19]        589,824    False     \n",
              "______________________________________________________________________\n",
              "BatchNorm2d          [256, 19, 19]        512        True      \n",
              "______________________________________________________________________\n",
              "Conv2d               [1024, 19, 19]       262,144    False     \n",
              "______________________________________________________________________\n",
              "BatchNorm2d          [1024, 19, 19]       2,048      True      \n",
              "______________________________________________________________________\n",
              "ReLU                 [1024, 19, 19]       0          False     \n",
              "______________________________________________________________________\n",
              "Conv2d               [256, 19, 19]        262,144    False     \n",
              "______________________________________________________________________\n",
              "BatchNorm2d          [256, 19, 19]        512        True      \n",
              "______________________________________________________________________\n",
              "Conv2d               [256, 19, 19]        589,824    False     \n",
              "______________________________________________________________________\n",
              "BatchNorm2d          [256, 19, 19]        512        True      \n",
              "______________________________________________________________________\n",
              "Conv2d               [1024, 19, 19]       262,144    False     \n",
              "______________________________________________________________________\n",
              "BatchNorm2d          [1024, 19, 19]       2,048      True      \n",
              "______________________________________________________________________\n",
              "ReLU                 [1024, 19, 19]       0          False     \n",
              "______________________________________________________________________\n",
              "Conv2d               [256, 19, 19]        262,144    False     \n",
              "______________________________________________________________________\n",
              "BatchNorm2d          [256, 19, 19]        512        True      \n",
              "______________________________________________________________________\n",
              "Conv2d               [256, 19, 19]        589,824    False     \n",
              "______________________________________________________________________\n",
              "BatchNorm2d          [256, 19, 19]        512        True      \n",
              "______________________________________________________________________\n",
              "Conv2d               [1024, 19, 19]       262,144    False     \n",
              "______________________________________________________________________\n",
              "BatchNorm2d          [1024, 19, 19]       2,048      True      \n",
              "______________________________________________________________________\n",
              "ReLU                 [1024, 19, 19]       0          False     \n",
              "______________________________________________________________________\n",
              "Conv2d               [256, 19, 19]        262,144    False     \n",
              "______________________________________________________________________\n",
              "BatchNorm2d          [256, 19, 19]        512        True      \n",
              "______________________________________________________________________\n",
              "Conv2d               [256, 19, 19]        589,824    False     \n",
              "______________________________________________________________________\n",
              "BatchNorm2d          [256, 19, 19]        512        True      \n",
              "______________________________________________________________________\n",
              "Conv2d               [1024, 19, 19]       262,144    False     \n",
              "______________________________________________________________________\n",
              "BatchNorm2d          [1024, 19, 19]       2,048      True      \n",
              "______________________________________________________________________\n",
              "ReLU                 [1024, 19, 19]       0          False     \n",
              "______________________________________________________________________\n",
              "Conv2d               [256, 19, 19]        262,144    False     \n",
              "______________________________________________________________________\n",
              "BatchNorm2d          [256, 19, 19]        512        True      \n",
              "______________________________________________________________________\n",
              "Conv2d               [256, 19, 19]        589,824    False     \n",
              "______________________________________________________________________\n",
              "BatchNorm2d          [256, 19, 19]        512        True      \n",
              "______________________________________________________________________\n",
              "Conv2d               [1024, 19, 19]       262,144    False     \n",
              "______________________________________________________________________\n",
              "BatchNorm2d          [1024, 19, 19]       2,048      True      \n",
              "______________________________________________________________________\n",
              "ReLU                 [1024, 19, 19]       0          False     \n",
              "______________________________________________________________________\n",
              "Conv2d               [256, 19, 19]        262,144    False     \n",
              "______________________________________________________________________\n",
              "BatchNorm2d          [256, 19, 19]        512        True      \n",
              "______________________________________________________________________\n",
              "Conv2d               [256, 19, 19]        589,824    False     \n",
              "______________________________________________________________________\n",
              "BatchNorm2d          [256, 19, 19]        512        True      \n",
              "______________________________________________________________________\n",
              "Conv2d               [1024, 19, 19]       262,144    False     \n",
              "______________________________________________________________________\n",
              "BatchNorm2d          [1024, 19, 19]       2,048      True      \n",
              "______________________________________________________________________\n",
              "ReLU                 [1024, 19, 19]       0          False     \n",
              "______________________________________________________________________\n",
              "Conv2d               [256, 19, 19]        262,144    False     \n",
              "______________________________________________________________________\n",
              "BatchNorm2d          [256, 19, 19]        512        True      \n",
              "______________________________________________________________________\n",
              "Conv2d               [256, 19, 19]        589,824    False     \n",
              "______________________________________________________________________\n",
              "BatchNorm2d          [256, 19, 19]        512        True      \n",
              "______________________________________________________________________\n",
              "Conv2d               [1024, 19, 19]       262,144    False     \n",
              "______________________________________________________________________\n",
              "BatchNorm2d          [1024, 19, 19]       2,048      True      \n",
              "______________________________________________________________________\n",
              "ReLU                 [1024, 19, 19]       0          False     \n",
              "______________________________________________________________________\n",
              "Conv2d               [256, 19, 19]        262,144    False     \n",
              "______________________________________________________________________\n",
              "BatchNorm2d          [256, 19, 19]        512        True      \n",
              "______________________________________________________________________\n",
              "Conv2d               [256, 19, 19]        589,824    False     \n",
              "______________________________________________________________________\n",
              "BatchNorm2d          [256, 19, 19]        512        True      \n",
              "______________________________________________________________________\n",
              "Conv2d               [1024, 19, 19]       262,144    False     \n",
              "______________________________________________________________________\n",
              "BatchNorm2d          [1024, 19, 19]       2,048      True      \n",
              "______________________________________________________________________\n",
              "ReLU                 [1024, 19, 19]       0          False     \n",
              "______________________________________________________________________\n",
              "Conv2d               [256, 19, 19]        262,144    False     \n",
              "______________________________________________________________________\n",
              "BatchNorm2d          [256, 19, 19]        512        True      \n",
              "______________________________________________________________________\n",
              "Conv2d               [256, 19, 19]        589,824    False     \n",
              "______________________________________________________________________\n",
              "BatchNorm2d          [256, 19, 19]        512        True      \n",
              "______________________________________________________________________\n",
              "Conv2d               [1024, 19, 19]       262,144    False     \n",
              "______________________________________________________________________\n",
              "BatchNorm2d          [1024, 19, 19]       2,048      True      \n",
              "______________________________________________________________________\n",
              "ReLU                 [1024, 19, 19]       0          False     \n",
              "______________________________________________________________________\n",
              "Conv2d               [256, 19, 19]        262,144    False     \n",
              "______________________________________________________________________\n",
              "BatchNorm2d          [256, 19, 19]        512        True      \n",
              "______________________________________________________________________\n",
              "Conv2d               [256, 19, 19]        589,824    False     \n",
              "______________________________________________________________________\n",
              "BatchNorm2d          [256, 19, 19]        512        True      \n",
              "______________________________________________________________________\n",
              "Conv2d               [1024, 19, 19]       262,144    False     \n",
              "______________________________________________________________________\n",
              "BatchNorm2d          [1024, 19, 19]       2,048      True      \n",
              "______________________________________________________________________\n",
              "ReLU                 [1024, 19, 19]       0          False     \n",
              "______________________________________________________________________\n",
              "Conv2d               [512, 19, 19]        524,288    False     \n",
              "______________________________________________________________________\n",
              "BatchNorm2d          [512, 19, 19]        1,024      True      \n",
              "______________________________________________________________________\n",
              "Conv2d               [512, 10, 10]        2,359,296  False     \n",
              "______________________________________________________________________\n",
              "BatchNorm2d          [512, 10, 10]        1,024      True      \n",
              "______________________________________________________________________\n",
              "Conv2d               [2048, 10, 10]       1,048,576  False     \n",
              "______________________________________________________________________\n",
              "BatchNorm2d          [2048, 10, 10]       4,096      True      \n",
              "______________________________________________________________________\n",
              "ReLU                 [2048, 10, 10]       0          False     \n",
              "______________________________________________________________________\n",
              "Conv2d               [2048, 10, 10]       2,097,152  False     \n",
              "______________________________________________________________________\n",
              "BatchNorm2d          [2048, 10, 10]       4,096      True      \n",
              "______________________________________________________________________\n",
              "Conv2d               [512, 10, 10]        1,048,576  False     \n",
              "______________________________________________________________________\n",
              "BatchNorm2d          [512, 10, 10]        1,024      True      \n",
              "______________________________________________________________________\n",
              "Conv2d               [512, 10, 10]        2,359,296  False     \n",
              "______________________________________________________________________\n",
              "BatchNorm2d          [512, 10, 10]        1,024      True      \n",
              "______________________________________________________________________\n",
              "Conv2d               [2048, 10, 10]       1,048,576  False     \n",
              "______________________________________________________________________\n",
              "BatchNorm2d          [2048, 10, 10]       4,096      True      \n",
              "______________________________________________________________________\n",
              "ReLU                 [2048, 10, 10]       0          False     \n",
              "______________________________________________________________________\n",
              "Conv2d               [512, 10, 10]        1,048,576  False     \n",
              "______________________________________________________________________\n",
              "BatchNorm2d          [512, 10, 10]        1,024      True      \n",
              "______________________________________________________________________\n",
              "Conv2d               [512, 10, 10]        2,359,296  False     \n",
              "______________________________________________________________________\n",
              "BatchNorm2d          [512, 10, 10]        1,024      True      \n",
              "______________________________________________________________________\n",
              "Conv2d               [2048, 10, 10]       1,048,576  False     \n",
              "______________________________________________________________________\n",
              "BatchNorm2d          [2048, 10, 10]       4,096      True      \n",
              "______________________________________________________________________\n",
              "ReLU                 [2048, 10, 10]       0          False     \n",
              "______________________________________________________________________\n",
              "AdaptiveAvgPool2d    [2048, 1, 1]         0          False     \n",
              "______________________________________________________________________\n",
              "AdaptiveMaxPool2d    [2048, 1, 1]         0          False     \n",
              "______________________________________________________________________\n",
              "Flatten              [4096]               0          False     \n",
              "______________________________________________________________________\n",
              "BatchNorm1d          [4096]               8,192      True      \n",
              "______________________________________________________________________\n",
              "Dropout              [4096]               0          False     \n",
              "______________________________________________________________________\n",
              "Linear               [512]                2,097,664  True      \n",
              "______________________________________________________________________\n",
              "ReLU                 [512]                0          False     \n",
              "______________________________________________________________________\n",
              "BatchNorm1d          [512]                1,024      True      \n",
              "______________________________________________________________________\n",
              "Dropout              [512]                0          False     \n",
              "______________________________________________________________________\n",
              "Linear               [2]                  1,026      True      \n",
              "______________________________________________________________________\n",
              "\n",
              "Total params: 44,608,066\n",
              "Total trainable params: 2,213,250\n",
              "Total non-trainable params: 42,394,816\n",
              "Optimized with 'torch.optim.adam.Adam', betas=(0.9, 0.99)\n",
              "Using true weight decay as discussed in https://www.fast.ai/2018/07/02/adam-weight-decay/ \n",
              "Loss function : FlattenedLoss\n",
              "======================================================================\n",
              "Callbacks functions applied "
            ]
          },
          "metadata": {
            "tags": []
          },
          "execution_count": 38
        }
      ]
    },
    {
      "cell_type": "code",
      "metadata": {
        "id": "UIZw_Lmx7g5S",
        "colab_type": "code",
        "colab": {
          "base_uri": "https://localhost:8080/",
          "height": 532
        },
        "outputId": "c45ac641-38ac-474d-bb72-4329ef454f65"
      },
      "source": [
        "learn.lr_find()\n",
        "learn.recorder.plot(suggestion=True)"
      ],
      "execution_count": null,
      "outputs": [
        {
          "output_type": "display_data",
          "data": {
            "text/html": [
              "\n",
              "    <div>\n",
              "        <style>\n",
              "            /* Turns off some styling */\n",
              "            progress {\n",
              "                /* gets rid of default border in Firefox and Opera. */\n",
              "                border: none;\n",
              "                /* Needs to be in here for Safari polyfill so background images work as expected. */\n",
              "                background-size: auto;\n",
              "            }\n",
              "            .progress-bar-interrupted, .progress-bar-interrupted::-webkit-progress-bar {\n",
              "                background: #F44336;\n",
              "            }\n",
              "        </style>\n",
              "      <progress value='4' class='' max='5' style='width:300px; height:20px; vertical-align: middle;'></progress>\n",
              "      80.00% [4/5 01:02<00:15]\n",
              "    </div>\n",
              "    \n",
              "<table border=\"1\" class=\"dataframe\">\n",
              "  <thead>\n",
              "    <tr style=\"text-align: left;\">\n",
              "      <th>epoch</th>\n",
              "      <th>train_loss</th>\n",
              "      <th>valid_loss</th>\n",
              "      <th>f_beta</th>\n",
              "      <th>accuracy</th>\n",
              "      <th>time</th>\n",
              "    </tr>\n",
              "  </thead>\n",
              "  <tbody>\n",
              "    <tr>\n",
              "      <td>0</td>\n",
              "      <td>1.618189</td>\n",
              "      <td>#na#</td>\n",
              "      <td>00:15</td>\n",
              "    </tr>\n",
              "    <tr>\n",
              "      <td>1</td>\n",
              "      <td>1.333596</td>\n",
              "      <td>#na#</td>\n",
              "      <td>00:15</td>\n",
              "    </tr>\n",
              "    <tr>\n",
              "      <td>2</td>\n",
              "      <td>0.872310</td>\n",
              "      <td>#na#</td>\n",
              "      <td>00:15</td>\n",
              "    </tr>\n",
              "    <tr>\n",
              "      <td>3</td>\n",
              "      <td>1.174392</td>\n",
              "      <td>#na#</td>\n",
              "      <td>00:15</td>\n",
              "    </tr>\n",
              "  </tbody>\n",
              "</table><p>\n",
              "\n",
              "    <div>\n",
              "        <style>\n",
              "            /* Turns off some styling */\n",
              "            progress {\n",
              "                /* gets rid of default border in Firefox and Opera. */\n",
              "                border: none;\n",
              "                /* Needs to be in here for Safari polyfill so background images work as expected. */\n",
              "                background-size: auto;\n",
              "            }\n",
              "            .progress-bar-interrupted, .progress-bar-interrupted::-webkit-progress-bar {\n",
              "                background: #F44336;\n",
              "            }\n",
              "        </style>\n",
              "      <progress value='8' class='' max='20' style='width:300px; height:20px; vertical-align: middle;'></progress>\n",
              "      40.00% [8/20 00:06<00:10 2.5796]\n",
              "    </div>\n",
              "    "
            ],
            "text/plain": [
              "<IPython.core.display.HTML object>"
            ]
          },
          "metadata": {
            "tags": []
          }
        },
        {
          "output_type": "stream",
          "text": [
            "LR Finder is complete, type {learner_name}.recorder.plot() to see the graph.\n",
            "Min numerical gradient: 1.91E-04\n",
            "Min loss divided by 10: 5.75E-03\n"
          ],
          "name": "stdout"
        },
        {
          "output_type": "display_data",
          "data": {
            "image/png": "[encoded data removed]",
            "text/plain": [
              "<Figure size 432x288 with 1 Axes>"
            ]
          },
          "metadata": {
            "tags": [],
            "needs_background": "light"
          }
        }
      ]
    },
    {
      "cell_type": "code",
      "metadata": {
        "id": "vHz9vVjN7g5f",
        "colab_type": "code",
        "colab": {
          "base_uri": "https://localhost:8080/",
          "height": 762
        },
        "outputId": "4a491c7d-1d94-4dab-e7c4-5654d5725666"
      },
      "source": [
        "lr = 3e-04\n",
        "#learn.fit_one_cycle(10, slice(lr))\n",
        "learn.fit_one_cycle(15, slice(lr), wd=0.2)"
      ],
      "execution_count": null,
      "outputs": [
        {
          "output_type": "display_data",
          "data": {
            "text/html": [
              "<table border=\"1\" class=\"dataframe\">\n",
              "  <thead>\n",
              "    <tr style=\"text-align: left;\">\n",
              "      <th>epoch</th>\n",
              "      <th>train_loss</th>\n",
              "      <th>valid_loss</th>\n",
              "      <th>f_beta</th>\n",
              "      <th>accuracy</th>\n",
              "      <th>time</th>\n",
              "    </tr>\n",
              "  </thead>\n",
              "  <tbody>\n",
              "    <tr>\n",
              "      <td>0</td>\n",
              "      <td>1.152899</td>\n",
              "      <td>0.414944</td>\n",
              "      <td>0.827361</td>\n",
              "      <td>0.829787</td>\n",
              "      <td>00:18</td>\n",
              "    </tr>\n",
              "    <tr>\n",
              "      <td>1</td>\n",
              "      <td>0.744555</td>\n",
              "      <td>0.240315</td>\n",
              "      <td>0.906193</td>\n",
              "      <td>0.908815</td>\n",
              "      <td>00:18</td>\n",
              "    </tr>\n",
              "    <tr>\n",
              "      <td>2</td>\n",
              "      <td>0.526355</td>\n",
              "      <td>0.203806</td>\n",
              "      <td>0.933144</td>\n",
              "      <td>0.936170</td>\n",
              "      <td>00:18</td>\n",
              "    </tr>\n",
              "    <tr>\n",
              "      <td>3</td>\n",
              "      <td>0.405105</td>\n",
              "      <td>0.212159</td>\n",
              "      <td>0.933494</td>\n",
              "      <td>0.936170</td>\n",
              "      <td>00:18</td>\n",
              "    </tr>\n",
              "    <tr>\n",
              "      <td>4</td>\n",
              "      <td>0.310394</td>\n",
              "      <td>0.214112</td>\n",
              "      <td>0.936580</td>\n",
              "      <td>0.939210</td>\n",
              "      <td>00:18</td>\n",
              "    </tr>\n",
              "    <tr>\n",
              "      <td>5</td>\n",
              "      <td>0.264026</td>\n",
              "      <td>0.217703</td>\n",
              "      <td>0.942616</td>\n",
              "      <td>0.945289</td>\n",
              "      <td>00:18</td>\n",
              "    </tr>\n",
              "    <tr>\n",
              "      <td>6</td>\n",
              "      <td>0.223527</td>\n",
              "      <td>0.204250</td>\n",
              "      <td>0.942772</td>\n",
              "      <td>0.945289</td>\n",
              "      <td>00:18</td>\n",
              "    </tr>\n",
              "    <tr>\n",
              "      <td>7</td>\n",
              "      <td>0.186032</td>\n",
              "      <td>0.231338</td>\n",
              "      <td>0.936240</td>\n",
              "      <td>0.939210</td>\n",
              "      <td>00:18</td>\n",
              "    </tr>\n",
              "    <tr>\n",
              "      <td>8</td>\n",
              "      <td>0.153510</td>\n",
              "      <td>0.212371</td>\n",
              "      <td>0.936413</td>\n",
              "      <td>0.939210</td>\n",
              "      <td>00:18</td>\n",
              "    </tr>\n",
              "    <tr>\n",
              "      <td>9</td>\n",
              "      <td>0.129419</td>\n",
              "      <td>0.199229</td>\n",
              "      <td>0.939828</td>\n",
              "      <td>0.942249</td>\n",
              "      <td>00:18</td>\n",
              "    </tr>\n",
              "    <tr>\n",
              "      <td>10</td>\n",
              "      <td>0.117947</td>\n",
              "      <td>0.230421</td>\n",
              "      <td>0.939511</td>\n",
              "      <td>0.942249</td>\n",
              "      <td>00:18</td>\n",
              "    </tr>\n",
              "    <tr>\n",
              "      <td>11</td>\n",
              "      <td>0.112530</td>\n",
              "      <td>0.215704</td>\n",
              "      <td>0.949264</td>\n",
              "      <td>0.951368</td>\n",
              "      <td>00:18</td>\n",
              "    </tr>\n",
              "    <tr>\n",
              "      <td>12</td>\n",
              "      <td>0.105844</td>\n",
              "      <td>0.203315</td>\n",
              "      <td>0.949264</td>\n",
              "      <td>0.951368</td>\n",
              "      <td>00:18</td>\n",
              "    </tr>\n",
              "    <tr>\n",
              "      <td>13</td>\n",
              "      <td>0.096207</td>\n",
              "      <td>0.206139</td>\n",
              "      <td>0.949130</td>\n",
              "      <td>0.951368</td>\n",
              "      <td>00:18</td>\n",
              "    </tr>\n",
              "    <tr>\n",
              "      <td>14</td>\n",
              "      <td>0.088858</td>\n",
              "      <td>0.196446</td>\n",
              "      <td>0.952373</td>\n",
              "      <td>0.954407</td>\n",
              "      <td>00:18</td>\n",
              "    </tr>\n",
              "  </tbody>\n",
              "</table>"
            ],
            "text/plain": [
              "<IPython.core.display.HTML object>"
            ]
          },
          "metadata": {
            "tags": []
          }
        },
        {
          "output_type": "display_data",
          "data": {
            "image/png": "[encoded data removed]",
            "text/plain": [
              "<Figure size 432x288 with 1 Axes>"
            ]
          },
          "metadata": {
            "tags": []
          }
        }
      ]
    },
    {
      "cell_type": "code",
      "metadata": {
        "id": "VzoSnfi9AnfX",
        "colab_type": "code",
        "colab": {
          "base_uri": "https://localhost:8080/",
          "height": 470
        },
        "outputId": "4c78bfc8-c12b-45d1-d659-3dc6907bb738"
      },
      "source": [
        "learn.unfreeze()\n",
        "learn.lr_find()\n",
        "learn.recorder.plot(suggestion=True)"
      ],
      "execution_count": null,
      "outputs": [
        {
          "output_type": "display_data",
          "data": {
            "text/html": [
              "\n",
              "    <div>\n",
              "        <style>\n",
              "            /* Turns off some styling */\n",
              "            progress {\n",
              "                /* gets rid of default border in Firefox and Opera. */\n",
              "                border: none;\n",
              "                /* Needs to be in here for Safari polyfill so background images work as expected. */\n",
              "                background-size: auto;\n",
              "            }\n",
              "            .progress-bar-interrupted, .progress-bar-interrupted::-webkit-progress-bar {\n",
              "                background: #F44336;\n",
              "            }\n",
              "        </style>\n",
              "      <progress value='2' class='' max='5' style='width:300px; height:20px; vertical-align: middle;'></progress>\n",
              "      40.00% [2/5 00:40<01:01]\n",
              "    </div>\n",
              "    \n",
              "<table border=\"1\" class=\"dataframe\">\n",
              "  <thead>\n",
              "    <tr style=\"text-align: left;\">\n",
              "      <th>epoch</th>\n",
              "      <th>train_loss</th>\n",
              "      <th>valid_loss</th>\n",
              "      <th>f_beta</th>\n",
              "      <th>accuracy</th>\n",
              "      <th>time</th>\n",
              "    </tr>\n",
              "  </thead>\n",
              "  <tbody>\n",
              "    <tr>\n",
              "      <td>0</td>\n",
              "      <td>0.074615</td>\n",
              "      <td>#na#</td>\n",
              "      <td>00:20</td>\n",
              "    </tr>\n",
              "    <tr>\n",
              "      <td>1</td>\n",
              "      <td>0.076716</td>\n",
              "      <td>#na#</td>\n",
              "      <td>00:20</td>\n",
              "    </tr>\n",
              "  </tbody>\n",
              "</table><p>\n",
              "\n",
              "    <div>\n",
              "        <style>\n",
              "            /* Turns off some styling */\n",
              "            progress {\n",
              "                /* gets rid of default border in Firefox and Opera. */\n",
              "                border: none;\n",
              "                /* Needs to be in here for Safari polyfill so background images work as expected. */\n",
              "                background-size: auto;\n",
              "            }\n",
              "            .progress-bar-interrupted, .progress-bar-interrupted::-webkit-progress-bar {\n",
              "                background: #F44336;\n",
              "            }\n",
              "        </style>\n",
              "      <progress value='14' class='' max='20' style='width:300px; height:20px; vertical-align: middle;'></progress>\n",
              "      70.00% [14/20 00:14<00:06 0.1744]\n",
              "    </div>\n",
              "    "
            ],
            "text/plain": [
              "<IPython.core.display.HTML object>"
            ]
          },
          "metadata": {
            "tags": []
          }
        },
        {
          "output_type": "stream",
          "text": [
            "LR Finder is complete, type {learner_name}.recorder.plot() to see the graph.\n",
            "Min numerical gradient: 9.12E-07\n",
            "Min loss divided by 10: 1.58E-07\n"
          ],
          "name": "stdout"
        },
        {
          "output_type": "display_data",
          "data": {
            "image/png": "[encoded data removed]",
            "text/plain": [
              "<Figure size 432x288 with 1 Axes>"
            ]
          },
          "metadata": {
            "tags": [],
            "needs_background": "light"
          }
        }
      ]
    },
    {
      "cell_type": "code",
      "metadata": {
        "id": "ElkGM8wZB0Iy",
        "colab_type": "code",
        "colab": {
          "base_uri": "https://localhost:8080/",
          "height": 607
        },
        "outputId": "29003ea8-201b-47e4-b311-d0c7f5f208bc"
      },
      "source": [
        "learn.fit_one_cycle(10,slice(1e-05,lr/8),wd=0.15)"
      ],
      "execution_count": null,
      "outputs": [
        {
          "output_type": "display_data",
          "data": {
            "text/html": [
              "<table border=\"1\" class=\"dataframe\">\n",
              "  <thead>\n",
              "    <tr style=\"text-align: left;\">\n",
              "      <th>epoch</th>\n",
              "      <th>train_loss</th>\n",
              "      <th>valid_loss</th>\n",
              "      <th>f_beta</th>\n",
              "      <th>accuracy</th>\n",
              "      <th>time</th>\n",
              "    </tr>\n",
              "  </thead>\n",
              "  <tbody>\n",
              "    <tr>\n",
              "      <td>0</td>\n",
              "      <td>0.077377</td>\n",
              "      <td>0.203598</td>\n",
              "      <td>0.952373</td>\n",
              "      <td>0.954407</td>\n",
              "      <td>00:23</td>\n",
              "    </tr>\n",
              "    <tr>\n",
              "      <td>1</td>\n",
              "      <td>0.070080</td>\n",
              "      <td>0.182796</td>\n",
              "      <td>0.949264</td>\n",
              "      <td>0.951368</td>\n",
              "      <td>00:23</td>\n",
              "    </tr>\n",
              "    <tr>\n",
              "      <td>2</td>\n",
              "      <td>0.059822</td>\n",
              "      <td>0.186130</td>\n",
              "      <td>0.949130</td>\n",
              "      <td>0.951368</td>\n",
              "      <td>00:23</td>\n",
              "    </tr>\n",
              "    <tr>\n",
              "      <td>3</td>\n",
              "      <td>0.069377</td>\n",
              "      <td>0.174601</td>\n",
              "      <td>0.952496</td>\n",
              "      <td>0.954407</td>\n",
              "      <td>00:23</td>\n",
              "    </tr>\n",
              "    <tr>\n",
              "      <td>4</td>\n",
              "      <td>0.070327</td>\n",
              "      <td>0.169134</td>\n",
              "      <td>0.949517</td>\n",
              "      <td>0.951368</td>\n",
              "      <td>00:22</td>\n",
              "    </tr>\n",
              "    <tr>\n",
              "      <td>5</td>\n",
              "      <td>0.059981</td>\n",
              "      <td>0.157407</td>\n",
              "      <td>0.962137</td>\n",
              "      <td>0.963526</td>\n",
              "      <td>00:23</td>\n",
              "    </tr>\n",
              "    <tr>\n",
              "      <td>6</td>\n",
              "      <td>0.054215</td>\n",
              "      <td>0.165115</td>\n",
              "      <td>0.962044</td>\n",
              "      <td>0.963526</td>\n",
              "      <td>00:23</td>\n",
              "    </tr>\n",
              "    <tr>\n",
              "      <td>7</td>\n",
              "      <td>0.040045</td>\n",
              "      <td>0.163359</td>\n",
              "      <td>0.962044</td>\n",
              "      <td>0.963526</td>\n",
              "      <td>00:23</td>\n",
              "    </tr>\n",
              "    <tr>\n",
              "      <td>8</td>\n",
              "      <td>0.038897</td>\n",
              "      <td>0.167730</td>\n",
              "      <td>0.955606</td>\n",
              "      <td>0.957447</td>\n",
              "      <td>00:22</td>\n",
              "    </tr>\n",
              "    <tr>\n",
              "      <td>9</td>\n",
              "      <td>0.036765</td>\n",
              "      <td>0.170995</td>\n",
              "      <td>0.958829</td>\n",
              "      <td>0.960486</td>\n",
              "      <td>00:23</td>\n",
              "    </tr>\n",
              "  </tbody>\n",
              "</table>"
            ],
            "text/plain": [
              "<IPython.core.display.HTML object>"
            ]
          },
          "metadata": {
            "tags": []
          }
        },
        {
          "output_type": "display_data",
          "data": {
            "image/png": "[encoded data removed]",
            "text/plain": [
              "<Figure size 432x288 with 1 Axes>"
            ]
          },
          "metadata": {
            "tags": []
          }
        }
      ]
    },
    {
      "cell_type": "code",
      "metadata": {
        "id": "bS1lDKCsCCXf",
        "colab_type": "code",
        "colab": {}
      },
      "source": [
        "learn.freeze_to(-3)"
      ],
      "execution_count": null,
      "outputs": []
    },
    {
      "cell_type": "code",
      "metadata": {
        "id": "TqGCjMWgDEog",
        "colab_type": "code",
        "colab": {}
      },
      "source": [
        "learn.lr_find()\n",
        "learn.recorder.plot(suggestion=True)"
      ],
      "execution_count": null,
      "outputs": []
    },
    {
      "cell_type": "code",
      "metadata": {
        "id": "O_x8rp8LDGX9",
        "colab_type": "code",
        "colab": {
          "base_uri": "https://localhost:8080/",
          "height": 483
        },
        "outputId": "e10ae46d-09d6-46be-9066-ba1087e6a61e"
      },
      "source": [
        "learn.fit_one_cycle(6, slice(1.1e-06, lr/10),wd=0.1)"
      ],
      "execution_count": null,
      "outputs": [
        {
          "output_type": "display_data",
          "data": {
            "text/html": [
              "<table border=\"1\" class=\"dataframe\">\n",
              "  <thead>\n",
              "    <tr style=\"text-align: left;\">\n",
              "      <th>epoch</th>\n",
              "      <th>train_loss</th>\n",
              "      <th>valid_loss</th>\n",
              "      <th>f_beta</th>\n",
              "      <th>accuracy</th>\n",
              "      <th>time</th>\n",
              "    </tr>\n",
              "  </thead>\n",
              "  <tbody>\n",
              "    <tr>\n",
              "      <td>0</td>\n",
              "      <td>0.019892</td>\n",
              "      <td>0.176327</td>\n",
              "      <td>0.952496</td>\n",
              "      <td>0.954407</td>\n",
              "      <td>00:16</td>\n",
              "    </tr>\n",
              "    <tr>\n",
              "      <td>1</td>\n",
              "      <td>0.017196</td>\n",
              "      <td>0.187233</td>\n",
              "      <td>0.958829</td>\n",
              "      <td>0.960486</td>\n",
              "      <td>00:16</td>\n",
              "    </tr>\n",
              "    <tr>\n",
              "      <td>2</td>\n",
              "      <td>0.013268</td>\n",
              "      <td>0.182517</td>\n",
              "      <td>0.955718</td>\n",
              "      <td>0.957447</td>\n",
              "      <td>00:16</td>\n",
              "    </tr>\n",
              "    <tr>\n",
              "      <td>3</td>\n",
              "      <td>0.015095</td>\n",
              "      <td>0.174923</td>\n",
              "      <td>0.955718</td>\n",
              "      <td>0.957447</td>\n",
              "      <td>00:16</td>\n",
              "    </tr>\n",
              "    <tr>\n",
              "      <td>4</td>\n",
              "      <td>0.015549</td>\n",
              "      <td>0.175365</td>\n",
              "      <td>0.952614</td>\n",
              "      <td>0.954407</td>\n",
              "      <td>00:16</td>\n",
              "    </tr>\n",
              "    <tr>\n",
              "      <td>5</td>\n",
              "      <td>0.013912</td>\n",
              "      <td>0.178333</td>\n",
              "      <td>0.949392</td>\n",
              "      <td>0.951368</td>\n",
              "      <td>00:16</td>\n",
              "    </tr>\n",
              "  </tbody>\n",
              "</table>"
            ],
            "text/plain": [
              "<IPython.core.display.HTML object>"
            ]
          },
          "metadata": {
            "tags": []
          }
        },
        {
          "output_type": "display_data",
          "data": {
            "image/png": "[encoded data removed]",
            "text/plain": [
              "<Figure size 432x288 with 1 Axes>"
            ]
          },
          "metadata": {
            "tags": []
          }
        }
      ]
    },
    {
      "cell_type": "code",
      "metadata": {
        "id": "DYN-uet0ECB3",
        "colab_type": "code",
        "colab": {}
      },
      "source": [
        "learn.freeze_to(-3)"
      ],
      "execution_count": null,
      "outputs": []
    },
    {
      "cell_type": "code",
      "metadata": {
        "id": "n357eX4MEpd-",
        "colab_type": "code",
        "colab": {}
      },
      "source": [
        "learn.fit_one_cycle(6, slice(4e-07, lr/20),wd=0.1)"
      ],
      "execution_count": null,
      "outputs": []
    },
    {
      "cell_type": "code",
      "metadata": {
        "id": "uMmjQC4rliUL",
        "colab_type": "code",
        "colab": {}
      },
      "source": [
        ""
      ],
      "execution_count": null,
      "outputs": []
    },
    {
      "cell_type": "code",
      "metadata": {
        "id": "6NcsUR5nEsiR",
        "colab_type": "code",
        "colab": {}
      },
      "source": [
        "learn.freeze_to(-2)"
      ],
      "execution_count": null,
      "outputs": []
    },
    {
      "cell_type": "code",
      "metadata": {
        "id": "ekLzFsQMFVju",
        "colab_type": "code",
        "colab": {
          "base_uri": "https://localhost:8080/",
          "height": 454
        },
        "outputId": "a3c9929a-dd19-4fe7-cd41-2ecbd52da14f"
      },
      "source": [
        "learn.fit_one_cycle(5, slice(5e-07, lr/20),wd=0.1)"
      ],
      "execution_count": null,
      "outputs": [
        {
          "output_type": "display_data",
          "data": {
            "text/html": [
              "<table border=\"1\" class=\"dataframe\">\n",
              "  <thead>\n",
              "    <tr style=\"text-align: left;\">\n",
              "      <th>epoch</th>\n",
              "      <th>train_loss</th>\n",
              "      <th>valid_loss</th>\n",
              "      <th>f_beta</th>\n",
              "      <th>accuracy</th>\n",
              "      <th>time</th>\n",
              "    </tr>\n",
              "  </thead>\n",
              "  <tbody>\n",
              "    <tr>\n",
              "      <td>0</td>\n",
              "      <td>0.014983</td>\n",
              "      <td>0.202553</td>\n",
              "      <td>0.965334</td>\n",
              "      <td>0.966565</td>\n",
              "      <td>00:47</td>\n",
              "    </tr>\n",
              "    <tr>\n",
              "      <td>1</td>\n",
              "      <td>0.013094</td>\n",
              "      <td>0.198812</td>\n",
              "      <td>0.965334</td>\n",
              "      <td>0.966565</td>\n",
              "      <td>00:47</td>\n",
              "    </tr>\n",
              "    <tr>\n",
              "      <td>2</td>\n",
              "      <td>0.015565</td>\n",
              "      <td>0.201992</td>\n",
              "      <td>0.962137</td>\n",
              "      <td>0.963526</td>\n",
              "      <td>00:47</td>\n",
              "    </tr>\n",
              "    <tr>\n",
              "      <td>3</td>\n",
              "      <td>0.017525</td>\n",
              "      <td>0.197177</td>\n",
              "      <td>0.962227</td>\n",
              "      <td>0.963526</td>\n",
              "      <td>00:47</td>\n",
              "    </tr>\n",
              "    <tr>\n",
              "      <td>4</td>\n",
              "      <td>0.014969</td>\n",
              "      <td>0.195130</td>\n",
              "      <td>0.962227</td>\n",
              "      <td>0.963526</td>\n",
              "      <td>00:47</td>\n",
              "    </tr>\n",
              "  </tbody>\n",
              "</table>"
            ],
            "text/plain": [
              "<IPython.core.display.HTML object>"
            ]
          },
          "metadata": {
            "tags": []
          }
        },
        {
          "output_type": "display_data",
          "data": {
            "image/png": "[encoded data removed]",
            "text/plain": [
              "<Figure size 432x288 with 1 Axes>"
            ]
          },
          "metadata": {
            "tags": []
          }
        }
      ]
    },
    {
      "cell_type": "code",
      "metadata": {
        "id": "jnGT8J55FXgz",
        "colab_type": "code",
        "colab": {
          "base_uri": "https://localhost:8080/",
          "height": 483
        },
        "outputId": "b3eaa97c-fcaa-42ac-df9b-858cc63b4809"
      },
      "source": [
        "learn.fit_one_cycle(6, slice(1e-07, lr/100))"
      ],
      "execution_count": null,
      "outputs": [
        {
          "output_type": "display_data",
          "data": {
            "text/html": [
              "<table border=\"1\" class=\"dataframe\">\n",
              "  <thead>\n",
              "    <tr style=\"text-align: left;\">\n",
              "      <th>epoch</th>\n",
              "      <th>train_loss</th>\n",
              "      <th>valid_loss</th>\n",
              "      <th>f_beta</th>\n",
              "      <th>accuracy</th>\n",
              "      <th>time</th>\n",
              "    </tr>\n",
              "  </thead>\n",
              "  <tbody>\n",
              "    <tr>\n",
              "      <td>0</td>\n",
              "      <td>0.005036</td>\n",
              "      <td>0.180168</td>\n",
              "      <td>0.962137</td>\n",
              "      <td>0.963526</td>\n",
              "      <td>00:18</td>\n",
              "    </tr>\n",
              "    <tr>\n",
              "      <td>1</td>\n",
              "      <td>0.008676</td>\n",
              "      <td>0.175676</td>\n",
              "      <td>0.962137</td>\n",
              "      <td>0.963526</td>\n",
              "      <td>00:19</td>\n",
              "    </tr>\n",
              "    <tr>\n",
              "      <td>2</td>\n",
              "      <td>0.007782</td>\n",
              "      <td>0.171724</td>\n",
              "      <td>0.965334</td>\n",
              "      <td>0.966565</td>\n",
              "      <td>00:19</td>\n",
              "    </tr>\n",
              "    <tr>\n",
              "      <td>3</td>\n",
              "      <td>0.008600</td>\n",
              "      <td>0.167103</td>\n",
              "      <td>0.965334</td>\n",
              "      <td>0.966565</td>\n",
              "      <td>00:19</td>\n",
              "    </tr>\n",
              "    <tr>\n",
              "      <td>4</td>\n",
              "      <td>0.008219</td>\n",
              "      <td>0.168360</td>\n",
              "      <td>0.965334</td>\n",
              "      <td>0.966565</td>\n",
              "      <td>00:18</td>\n",
              "    </tr>\n",
              "    <tr>\n",
              "      <td>5</td>\n",
              "      <td>0.007756</td>\n",
              "      <td>0.176110</td>\n",
              "      <td>0.965334</td>\n",
              "      <td>0.966565</td>\n",
              "      <td>00:18</td>\n",
              "    </tr>\n",
              "  </tbody>\n",
              "</table>"
            ],
            "text/plain": [
              "<IPython.core.display.HTML object>"
            ]
          },
          "metadata": {
            "tags": []
          }
        },
        {
          "output_type": "display_data",
          "data": {
            "image/png": "[encoded data removed]",
            "text/plain": [
              "<Figure size 432x288 with 1 Axes>"
            ]
          },
          "metadata": {
            "tags": []
          }
        }
      ]
    },
    {
      "cell_type": "code",
      "metadata": {
        "id": "XXutPJ_2HyL_",
        "colab_type": "code",
        "colab": {}
      },
      "source": [
        "pred_val,y = learn.TTA(ds_type=DatasetType.Valid)\n",
        "from sklearn.metrics import f1_score, accuracy_score\n",
        "valid_preds = [np.argmax(pred_val[i])+1 for i in range(len(pred_val))]\n",
        "valid_preds = np.array(valid_preds)\n",
        "y = np.array(y+1)\n",
        "accuracy_score(valid_preds,y),f1_score(valid_preds,y, average='micro')"
      ],
      "execution_count": null,
      "outputs": []
    },
    {
      "cell_type": "code",
      "metadata": {
        "id": "2d3PCNiPH9Yp",
        "colab_type": "code",
        "colab": {
          "base_uri": "https://localhost:8080/",
          "height": 17
        },
        "outputId": "a26c41e9-a465-4f49-8fec-c73f494864d2"
      },
      "source": [
        "preds,_ = learn.TTA(ds_type=DatasetType.Test)\n",
        "# preds,_ = learn.get_preds(ds_type = DatasetType.Test)\n",
        "labelled_preds = [np.argmax(preds[i]) for i in range(len(preds))]\n",
        "labelled_preds = np.array(labelled_preds)"
      ],
      "execution_count": null,
      "outputs": [
        {
          "output_type": "display_data",
          "data": {
            "text/html": [
              ""
            ],
            "text/plain": [
              "<IPython.core.display.HTML object>"
            ]
          },
          "metadata": {
            "tags": []
          }
        },
        {
          "output_type": "display_data",
          "data": {
            "text/html": [
              ""
            ],
            "text/plain": [
              "<IPython.core.display.HTML object>"
            ]
          },
          "metadata": {
            "tags": []
          }
        }
      ]
    },
    {
      "cell_type": "code",
      "metadata": {
        "id": "P2EeIGzgIHwg",
        "colab_type": "code",
        "colab": {}
      },
      "source": [
        "df = pd.DataFrame({'image_names':test_df['image_names'], 'emergency_or_not':labelled_preds}, columns=['image_names', 'emergency_or_not'])\n",
        "# df[\"emergency_or_not\"] = df[\"emergency_or_not\"]\n",
        "df.to_csv('submission3.csv', index=False)"
      ],
      "execution_count": null,
      "outputs": []
    },
    {
      "cell_type": "code",
      "metadata": {
        "id": "YfHcqO3RIyjO",
        "colab_type": "code",
        "colab": {}
      },
      "source": [
        ""
      ],
      "execution_count": null,
      "outputs": []
    },
    {
      "cell_type": "code",
      "metadata": {
        "id": "95OCvNbTi9zy",
        "colab_type": "code",
        "colab": {}
      },
      "source": [
        ""
      ],
      "execution_count": null,
      "outputs": []
    }
  ]
}