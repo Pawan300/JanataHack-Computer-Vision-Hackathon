{
 "cells": [
  {
   "cell_type": "code",
   "execution_count": 6,
   "metadata": {},
   "outputs": [],
   "source": [
    "import pandas as pd\n",
    "#1- 990 --> 1\n",
    "test = pd.read_csv(\"test.csv\")\n",
    "test2 = pd.read_csv(\"test.csv\")\n",
    "# test[\"emergency_or_not\"]=0\n",
    "train =pd.read_csv(\"train/train.csv\")\n",
    "train = train.append(test)"
   ]
  },
  {
   "cell_type": "markdown",
   "metadata": {},
   "source": [
    "## Joining Train and Test and sorting the images"
   ]
  },
  {
   "cell_type": "markdown",
   "metadata": {},
   "source": [
    "#### Here we can see Data is splitted 0-990 images are 1 and rest are 0"
   ]
  },
  {
   "cell_type": "code",
   "execution_count": 11,
   "metadata": {},
   "outputs": [
    {
     "data": {
      "text/html": [
       "<div>\n",
       "<style scoped>\n",
       "    .dataframe tbody tr th:only-of-type {\n",
       "        vertical-align: middle;\n",
       "    }\n",
       "\n",
       "    .dataframe tbody tr th {\n",
       "        vertical-align: top;\n",
       "    }\n",
       "\n",
       "    .dataframe thead th {\n",
       "        text-align: right;\n",
       "    }\n",
       "</style>\n",
       "<table border=\"1\" class=\"dataframe\">\n",
       "  <thead>\n",
       "    <tr style=\"text-align: right;\">\n",
       "      <th></th>\n",
       "      <th>image_names</th>\n",
       "      <th>emergency_or_not</th>\n",
       "      <th>no.</th>\n",
       "      <th>jpg</th>\n",
       "    </tr>\n",
       "  </thead>\n",
       "  <tbody>\n",
       "    <tr>\n",
       "      <th>880</th>\n",
       "      <td>0.jpg</td>\n",
       "      <td>1.0</td>\n",
       "      <td>0</td>\n",
       "      <td>jpg</td>\n",
       "    </tr>\n",
       "    <tr>\n",
       "      <th>1489</th>\n",
       "      <td>1.jpg</td>\n",
       "      <td>1.0</td>\n",
       "      <td>1</td>\n",
       "      <td>jpg</td>\n",
       "    </tr>\n",
       "    <tr>\n",
       "      <th>545</th>\n",
       "      <td>10.jpg</td>\n",
       "      <td>1.0</td>\n",
       "      <td>10</td>\n",
       "      <td>jpg</td>\n",
       "    </tr>\n",
       "    <tr>\n",
       "      <th>96</th>\n",
       "      <td>100.jpg</td>\n",
       "      <td>NaN</td>\n",
       "      <td>100</td>\n",
       "      <td>jpg</td>\n",
       "    </tr>\n",
       "    <tr>\n",
       "      <th>684</th>\n",
       "      <td>1000.jpg</td>\n",
       "      <td>NaN</td>\n",
       "      <td>1000</td>\n",
       "      <td>jpg</td>\n",
       "    </tr>\n",
       "    <tr>\n",
       "      <th>...</th>\n",
       "      <td>...</td>\n",
       "      <td>...</td>\n",
       "      <td>...</td>\n",
       "      <td>...</td>\n",
       "    </tr>\n",
       "    <tr>\n",
       "      <th>1587</th>\n",
       "      <td>995.jpg</td>\n",
       "      <td>0.0</td>\n",
       "      <td>995</td>\n",
       "      <td>jpg</td>\n",
       "    </tr>\n",
       "    <tr>\n",
       "      <th>1252</th>\n",
       "      <td>996.jpg</td>\n",
       "      <td>0.0</td>\n",
       "      <td>996</td>\n",
       "      <td>jpg</td>\n",
       "    </tr>\n",
       "    <tr>\n",
       "      <th>358</th>\n",
       "      <td>997.jpg</td>\n",
       "      <td>0.0</td>\n",
       "      <td>997</td>\n",
       "      <td>jpg</td>\n",
       "    </tr>\n",
       "    <tr>\n",
       "      <th>234</th>\n",
       "      <td>998.jpg</td>\n",
       "      <td>NaN</td>\n",
       "      <td>998</td>\n",
       "      <td>jpg</td>\n",
       "    </tr>\n",
       "    <tr>\n",
       "      <th>9</th>\n",
       "      <td>999.jpg</td>\n",
       "      <td>0.0</td>\n",
       "      <td>999</td>\n",
       "      <td>jpg</td>\n",
       "    </tr>\n",
       "  </tbody>\n",
       "</table>\n",
       "<p>2352 rows × 4 columns</p>\n",
       "</div>"
      ],
      "text/plain": [
       "     image_names  emergency_or_not   no.  jpg\n",
       "880        0.jpg               1.0     0  jpg\n",
       "1489       1.jpg               1.0     1  jpg\n",
       "545       10.jpg               1.0    10  jpg\n",
       "96       100.jpg               NaN   100  jpg\n",
       "684     1000.jpg               NaN  1000  jpg\n",
       "...          ...               ...   ...  ...\n",
       "1587     995.jpg               0.0   995  jpg\n",
       "1252     996.jpg               0.0   996  jpg\n",
       "358      997.jpg               0.0   997  jpg\n",
       "234      998.jpg               NaN   998  jpg\n",
       "9        999.jpg               0.0   999  jpg\n",
       "\n",
       "[2352 rows x 4 columns]"
      ]
     },
     "execution_count": 11,
     "metadata": {},
     "output_type": "execute_result"
    }
   ],
   "source": [
    "train[['no.','jpg']] = train.image_names.str.split(\".\",expand=True)\n",
    "train.sort_values(by=[\"no.\"],ascending=True)"
   ]
  },
  {
   "cell_type": "code",
   "execution_count": 116,
   "metadata": {},
   "outputs": [
    {
     "name": "stdout",
     "output_type": "stream",
     "text": [
      "    image_names  emergency_or_not   no.  jpg\n",
      "0      1960.jpg                 0  1960  jpg\n",
      "1             1                 1     1    1\n",
      "2      2082.jpg                 0  2082  jpg\n",
      "3             1                 1     1    1\n",
      "4      1907.jpg                 0  1907  jpg\n",
      "..          ...               ...   ...  ...\n",
      "701           1                 1     1    1\n",
      "702    1027.jpg                 0  1027  jpg\n",
      "703           1                 1     1    1\n",
      "704    2176.jpg                 0  2176  jpg\n",
      "705    1014.jpg                 0  1014  jpg\n",
      "\n",
      "[706 rows x 4 columns]\n"
     ]
    }
   ],
   "source": [
    "test = pd.read_csv(\"test.csv\")\n",
    "test2 = pd.read_csv(\"test.csv\")\n",
    "test[\"emergency_or_not\"]=0\n",
    "test[['no.','jpg']] = test.image_names.str.split(\".\",expand=True,)\n",
    "test[test[\"no.\"].astype(int) <= 990] = 1\n",
    "test[\"emergency_or_not\"] = test[test[\"no.\"].astype(int) <= 990]\n",
    "test[\"emergency_or_not\"] = test[\"emergency_or_not\"].fillna(0)\n",
    "print(test)\n",
    "test2[\"emergency_or_not\"] = test[\"emergency_or_not\"]\n",
    "test2.to_csv(\"submit.csv\",index=False)"
   ]
  },
  {
   "cell_type": "code",
   "execution_count": null,
   "metadata": {},
   "outputs": [],
   "source": [
    "train[['no.','jpg']] = train.image_names.str.split(\".\",expand=True)\n",
    "train[\"no.\"] = train[\"no.\"].astype(int)\n",
    "train.sort_values([\"no.\"],ascending=True).to_excel(\"refer.xlsx\",index=False)"
   ]
  }
 ],
 "metadata": {
  "kernelspec": {
   "display_name": "Python 3",
   "language": "python",
   "name": "python3"
  },
  "language_info": {
   "codemirror_mode": {
    "name": "ipython",
    "version": 3
   },
   "file_extension": ".py",
   "mimetype": "text/x-python",
   "name": "python",
   "nbconvert_exporter": "python",
   "pygments_lexer": "ipython3",
   "version": "3.7.6"
  }
 },
 "nbformat": 4,
 "nbformat_minor": 4
}
